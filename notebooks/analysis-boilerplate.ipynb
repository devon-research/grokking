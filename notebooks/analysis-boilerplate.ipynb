{
 "cells": [
  {
   "cell_type": "code",
   "execution_count": 2,
   "metadata": {},
   "outputs": [],
   "source": [
    "import wandb\n",
    "import torch\n",
    "from src.models import NandaTransformer"
   ]
  },
  {
   "cell_type": "code",
   "execution_count": null,
   "metadata": {},
   "outputs": [],
   "source": [
    "api = wandb.Api()\n",
    "entity = \"\" # Your account name or team name goes here.\n",
    "runs = api.runs(entity + \"/grokking\", filters={\"tags\": \"1.4\"})\n",
    "for run in runs:\n",
    "    epoch = 0 # This denotes which checkpoint to restore.\n",
    "    checkpoint_file = wandb.restore(f\"checkpoint-{epoch}.pt\",\n",
    "                                    run_path=\"/\".join(run.path),\n",
    "                                    replace=True)\n",
    "    model = NandaTransformer()\n",
    "    model.load_state_dict(torch.load(checkpoint_file.name, map_location=\"cpu\"))\n",
    "    # You can now do things like `run.config`."
   ]
  }
 ],
 "metadata": {
  "kernelspec": {
   "display_name": "grokking",
   "language": "python",
   "name": "python3"
  },
  "language_info": {
   "codemirror_mode": {
    "name": "ipython",
    "version": 3
   },
   "file_extension": ".py",
   "mimetype": "text/x-python",
   "name": "python",
   "nbconvert_exporter": "python",
   "pygments_lexer": "ipython3",
   "version": "3.9.16"
  },
  "orig_nbformat": 4
 },
 "nbformat": 4,
 "nbformat_minor": 2
}
